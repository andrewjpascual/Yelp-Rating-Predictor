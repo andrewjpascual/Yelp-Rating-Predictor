{
 "cells": [
  {
   "cell_type": "markdown",
   "metadata": {},
   "source": [
    "# Project 1\n",
    "Andrew Pascual"
   ]
  },
  {
   "cell_type": "markdown",
   "metadata": {},
   "source": [
    "### Yelp Business Rating Prediction using Tensorflow\n"
   ]
  },
  {
   "cell_type": "markdown",
   "metadata": {},
   "source": [
    "- We aim to predict a business's stars rating based on all review text for that business"
   ]
  },
  {
   "cell_type": "markdown",
   "metadata": {},
   "source": [
    "## Load dataset"
   ]
  },
  {
   "cell_type": "code",
   "execution_count": 2,
   "metadata": {},
   "outputs": [],
   "source": [
    "import json\n",
    "import csv\n",
    "import pandas as pd\n",
    "import numpy as np\n",
    "import os\n",
    "import string"
   ]
  },
  {
   "cell_type": "code",
   "execution_count": 3,
   "metadata": {},
   "outputs": [],
   "source": [
    "#JSON to CSV of Review file\n",
    "\n",
    "outfile = open(\"review_stars.tsv\", 'w')\n",
    "sfile = csv.writer(outfile, delimiter =\"\\t\", quoting=csv.QUOTE_MINIMAL)\n",
    "sfile.writerow(['business_id','stars', 'text'])\n",
    "with open('yelp_academic_dataset_review.json',encoding=\"utf-8\") as f:\n",
    "    for line in f:\n",
    "        row = json.loads(line)\n",
    "        sfile.writerow([row['business_id'], row['stars'], (row['text']).encode('utf-8')])\n",
    "outfile.close()"
   ]
  },
  {
   "cell_type": "code",
   "execution_count": 4,
   "metadata": {},
   "outputs": [],
   "source": [
    "df_review_stars = pd.read_csv('review_stars.tsv', delimiter =\"\\t\", encoding=\"utf-8\")"
   ]
  },
  {
   "cell_type": "code",
   "execution_count": 5,
   "metadata": {},
   "outputs": [],
   "source": [
    "#JSON to CSV of Business file\n",
    "\n",
    "outfile = open(\"business.tsv\", 'w')\n",
    "sfile = csv.writer(outfile, delimiter =\"\\t\", quoting=csv.QUOTE_MINIMAL)\n",
    "sfile.writerow(['business_id', 'name','stars','categories','review_count'])\n",
    "with open('yelp_academic_dataset_business.json',encoding=\"utf-8\") as f:\n",
    "    for line in f:\n",
    "        row = json.loads(line)\n",
    "        sfile.writerow([row['business_id'], row['name'].encode('utf-8'), row['stars'], row['categories'],row['review_count']])\n",
    "outfile.close()"
   ]
  },
  {
   "cell_type": "code",
   "execution_count": 6,
   "metadata": {},
   "outputs": [],
   "source": [
    "df_business = pd.read_csv('business.tsv', delimiter =\"\\t\", encoding= \"utf-8\")"
   ]
  },
  {
   "cell_type": "markdown",
   "metadata": {},
   "source": [
    "Group all of the reviews by each business"
   ]
  },
  {
   "cell_type": "code",
   "execution_count": 7,
   "metadata": {},
   "outputs": [],
   "source": [
    "df_review_agg = df_review_stars.groupby('business_id')['text'].sum()\n",
    "df_ready_for_sklearn = pd.DataFrame({'business_id': df_review_agg.index, 'all_reviews':df_review_agg.values})"
   ]
  },
  {
   "cell_type": "markdown",
   "metadata": {},
   "source": [
    "### Data Cleaning"
   ]
  },
  {
   "cell_type": "code",
   "execution_count": 8,
   "metadata": {},
   "outputs": [],
   "source": [
    "#Remove any business with less than 20 reviews\n",
    "df_business.drop(df_business[df_business['review_count'] < 20].index, inplace = True)"
   ]
  },
  {
   "cell_type": "code",
   "execution_count": 9,
   "metadata": {},
   "outputs": [],
   "source": [
    "#Merge the aggregate reviews and business dataframes\n",
    "df_review_business = pd.merge(df_ready_for_sklearn, df_business, on='business_id')"
   ]
  },
  {
   "cell_type": "markdown",
   "metadata": {},
   "source": [
    "Print shapes and information for current dataframes"
   ]
  },
  {
   "cell_type": "code",
   "execution_count": 10,
   "metadata": {},
   "outputs": [
    {
     "name": "stdout",
     "output_type": "stream",
     "text": [
      "(8021122, 3)\n",
      "(66117, 5)\n",
      "(66117, 6)\n",
      "5.0    3586460\n",
      "4.0    1673404\n",
      "1.0    1283897\n",
      "3.0     842289\n",
      "2.0     635072\n",
      "Name: stars, dtype: int64\n"
     ]
    }
   ],
   "source": [
    "print(df_review_stars.shape)\n",
    "print(df_business.shape)\n",
    "print(df_review_business.shape)\n",
    "print(df_review_stars.stars.value_counts())"
   ]
  },
  {
   "cell_type": "markdown",
   "metadata": {},
   "source": [
    "## TF-IDF"
   ]
  },
  {
   "cell_type": "code",
   "execution_count": 11,
   "metadata": {},
   "outputs": [
    {
     "name": "stderr",
     "output_type": "stream",
     "text": [
      "C:\\Users\\andrewpascual\\Anaconda3\\lib\\site-packages\\tensorflow\\python\\framework\\dtypes.py:516: FutureWarning: Passing (type, 1) or '1type' as a synonym of type is deprecated; in a future version of numpy, it will be understood as (type, (1,)) / '(1,)type'.\n",
      "  _np_qint8 = np.dtype([(\"qint8\", np.int8, 1)])\n",
      "C:\\Users\\andrewpascual\\Anaconda3\\lib\\site-packages\\tensorflow\\python\\framework\\dtypes.py:517: FutureWarning: Passing (type, 1) or '1type' as a synonym of type is deprecated; in a future version of numpy, it will be understood as (type, (1,)) / '(1,)type'.\n",
      "  _np_quint8 = np.dtype([(\"quint8\", np.uint8, 1)])\n",
      "C:\\Users\\andrewpascual\\Anaconda3\\lib\\site-packages\\tensorflow\\python\\framework\\dtypes.py:518: FutureWarning: Passing (type, 1) or '1type' as a synonym of type is deprecated; in a future version of numpy, it will be understood as (type, (1,)) / '(1,)type'.\n",
      "  _np_qint16 = np.dtype([(\"qint16\", np.int16, 1)])\n",
      "C:\\Users\\andrewpascual\\Anaconda3\\lib\\site-packages\\tensorflow\\python\\framework\\dtypes.py:519: FutureWarning: Passing (type, 1) or '1type' as a synonym of type is deprecated; in a future version of numpy, it will be understood as (type, (1,)) / '(1,)type'.\n",
      "  _np_quint16 = np.dtype([(\"quint16\", np.uint16, 1)])\n",
      "C:\\Users\\andrewpascual\\Anaconda3\\lib\\site-packages\\tensorflow\\python\\framework\\dtypes.py:520: FutureWarning: Passing (type, 1) or '1type' as a synonym of type is deprecated; in a future version of numpy, it will be understood as (type, (1,)) / '(1,)type'.\n",
      "  _np_qint32 = np.dtype([(\"qint32\", np.int32, 1)])\n",
      "C:\\Users\\andrewpascual\\Anaconda3\\lib\\site-packages\\tensorflow\\python\\framework\\dtypes.py:525: FutureWarning: Passing (type, 1) or '1type' as a synonym of type is deprecated; in a future version of numpy, it will be understood as (type, (1,)) / '(1,)type'.\n",
      "  np_resource = np.dtype([(\"resource\", np.ubyte, 1)])\n",
      "C:\\Users\\andrewpascual\\Anaconda3\\lib\\site-packages\\tensorboard\\compat\\tensorflow_stub\\dtypes.py:541: FutureWarning: Passing (type, 1) or '1type' as a synonym of type is deprecated; in a future version of numpy, it will be understood as (type, (1,)) / '(1,)type'.\n",
      "  _np_qint8 = np.dtype([(\"qint8\", np.int8, 1)])\n",
      "C:\\Users\\andrewpascual\\Anaconda3\\lib\\site-packages\\tensorboard\\compat\\tensorflow_stub\\dtypes.py:542: FutureWarning: Passing (type, 1) or '1type' as a synonym of type is deprecated; in a future version of numpy, it will be understood as (type, (1,)) / '(1,)type'.\n",
      "  _np_quint8 = np.dtype([(\"quint8\", np.uint8, 1)])\n",
      "C:\\Users\\andrewpascual\\Anaconda3\\lib\\site-packages\\tensorboard\\compat\\tensorflow_stub\\dtypes.py:543: FutureWarning: Passing (type, 1) or '1type' as a synonym of type is deprecated; in a future version of numpy, it will be understood as (type, (1,)) / '(1,)type'.\n",
      "  _np_qint16 = np.dtype([(\"qint16\", np.int16, 1)])\n",
      "C:\\Users\\andrewpascual\\Anaconda3\\lib\\site-packages\\tensorboard\\compat\\tensorflow_stub\\dtypes.py:544: FutureWarning: Passing (type, 1) or '1type' as a synonym of type is deprecated; in a future version of numpy, it will be understood as (type, (1,)) / '(1,)type'.\n",
      "  _np_quint16 = np.dtype([(\"quint16\", np.uint16, 1)])\n",
      "C:\\Users\\andrewpascual\\Anaconda3\\lib\\site-packages\\tensorboard\\compat\\tensorflow_stub\\dtypes.py:545: FutureWarning: Passing (type, 1) or '1type' as a synonym of type is deprecated; in a future version of numpy, it will be understood as (type, (1,)) / '(1,)type'.\n",
      "  _np_qint32 = np.dtype([(\"qint32\", np.int32, 1)])\n",
      "C:\\Users\\andrewpascual\\Anaconda3\\lib\\site-packages\\tensorboard\\compat\\tensorflow_stub\\dtypes.py:550: FutureWarning: Passing (type, 1) or '1type' as a synonym of type is deprecated; in a future version of numpy, it will be understood as (type, (1,)) / '(1,)type'.\n",
      "  np_resource = np.dtype([(\"resource\", np.ubyte, 1)])\n"
     ]
    }
   ],
   "source": [
    "from sklearn.model_selection import train_test_split\n",
    "from sklearn import metrics\n",
    "from tensorflow.keras.models import Sequential\n",
    "from tensorflow.keras.layers import Dense, Activation\n",
    "from tensorflow.keras.callbacks import EarlyStopping\n",
    "from tensorflow.keras.callbacks import ModelCheckpoint"
   ]
  },
  {
   "cell_type": "code",
   "execution_count": 19,
   "metadata": {},
   "outputs": [],
   "source": [
    "#Begin feature extraction\n",
    "\n",
    "import sklearn.feature_extraction.text as sk_text\n",
    "vectorizer = sk_text.TfidfVectorizer(stop_words='english', max_features = 500)\n",
    "\n",
    "#min_df: ignore terms that have a document frequency < min_df.\n",
    "#max_df: ignore terms that have a document frequency > max_df"
   ]
  },
  {
   "cell_type": "code",
   "execution_count": 20,
   "metadata": {},
   "outputs": [
    {
     "name": "stdout",
     "output_type": "stream",
     "text": [
      "<class 'scipy.sparse.csr.csr_matrix'>\n"
     ]
    }
   ],
   "source": [
    "matrix = vectorizer.fit_transform(df_review_business['all_reviews'])\n",
    "print(type(matrix))               # Compressed Sparse Row matrix"
   ]
  },
  {
   "cell_type": "code",
   "execution_count": 21,
   "metadata": {},
   "outputs": [
    {
     "name": "stdout",
     "output_type": "stream",
     "text": [
      "[[0.         0.00866529 0.04865407 ... 0.         0.         0.        ]\n",
      " [0.02335423 0.01256113 0.00881606 ... 0.01216804 0.01183077 0.        ]\n",
      " [0.         0.01380149 0.01291549 ... 0.         0.01733202 0.        ]\n",
      " ...\n",
      " [0.         0.01446045 0.00676607 ... 0.0124515  0.01815955 0.0078816 ]\n",
      " [0.00764521 0.02826994 0.         ... 0.         0.02259193 0.00840458]\n",
      " [0.         0.         0.         ... 0.01560726 0.00758733 0.        ]]\n"
     ]
    }
   ],
   "source": [
    "tfidf_data = matrix.toarray()     #  convert it to numpy array\n",
    "print(tfidf_data)"
   ]
  },
  {
   "cell_type": "code",
   "execution_count": 22,
   "metadata": {},
   "outputs": [
    {
     "data": {
      "text/plain": [
       "(66117, 500)"
      ]
     },
     "execution_count": 22,
     "metadata": {},
     "output_type": "execute_result"
    }
   ],
   "source": [
    "x = tfidf_data\n",
    "x.shape"
   ]
  },
  {
   "cell_type": "code",
   "execution_count": 23,
   "metadata": {},
   "outputs": [
    {
     "data": {
      "text/plain": [
       "(66117,)"
      ]
     },
     "execution_count": 23,
     "metadata": {},
     "output_type": "execute_result"
    }
   ],
   "source": [
    "y = df_review_business['stars']\n",
    "y.shape"
   ]
  },
  {
   "cell_type": "code",
   "execution_count": 24,
   "metadata": {},
   "outputs": [
    {
     "name": "stdout",
     "output_type": "stream",
     "text": [
      "['00', '10', '12', '15', '20', '30', '50', 'able', 'absolutely', 'actually', 'add', 'ago', 'amazing', 'appetizer', 'appointment', 'area', 'arrived', 'ask', 'asked', 'ate', 'atmosphere', 'attentive', 'authentic', 'available', 'average', 'away', 'awesome', 'bacon', 'bad', 'bar', 'bbq', 'beautiful', 'beef', 'beer', 'believe', 'best', 'better', 'big', 'birthday', 'bit', 'bite', 'bowl', 'bread', 'breakfast', 'bring', 'brought', 'brunch', 'buffet', 'burger', 'burgers', 'business', 'busy', 'buy', 'cake', 'called', 'came', 'car', 'card', 'care', 'change', 'charge', 'cheap', 'check', 'cheese', 'chef', 'chicken', 'chinese', 'chips', 'chocolate', 'choice', 'choose', 'clean', 'close', 'coffee', 'cold', 'come', 'comes', 'comfortable', 'coming', 'company', 'completely', 'cooked', 'cool', 'cost', 'couldn', 'counter', 'couple', 'course', 'crab', 'cream', 'crispy', 'customer', 'customers', 'cut', 'day', 'days', 'deal', 'decent', 'decided', 'decor', 'definitely', 'delicious', 'dessert', 'did', 'didn', 'different', 'dining', 'dinner', 'disappointed', 'dish', 'dishes', 'does', 'doesn', 'dog', 'doing', 'don', 'door', 'dr', 'drink', 'drinks', 'drive', 'dry', 'early', 'easy', 'eat', 'eating', 'egg', 'eggs', 'employees', 'end', 'ended', 'enjoy', 'enjoyed', 'entire', 'especially', 'evening', 'excellent', 'expect', 'expected', 'expensive', 'experience', 'extra', 'extremely', 'fact', 'family', 'fan', 'fantastic', 'far', 'fast', 'favorite', 'feel', 'felt', 'finally', 'fine', 'fish', 'flavor', 'flavors', 'floor', 'food', 'free', 'french', 'fresh', 'friday', 'fried', 'friend', 'friendly', 'friends', 'fries', 'fun', 'garlic', 'gave', 'gets', 'getting', 'girl', 'given', 'glad', 'glass', 'going', 'gone', 'good', 'got', 'great', 'green', 'grilled', 'group', 'guess', 'guy', 'guys', 'hair', 'half', 'happy', 'hard', 'haven', 'having', 'heard', 'help', 'helpful', 'high', 'highly', 'home', 'horrible', 'hot', 'hotel', 'hour', 'hours', 'house', 'huge', 'husband', 'ice', 'impressed', 'inside', 'instead', 'isn', 'issue', 'italian', 'items', 'job', 'just', 'kept', 'kids', 'kind', 'kitchen', 'knew', 'know', 'lady', 'large', 'las', 'late', 'later', 'leave', 'left', 'let', 'life', 'light', 'like', 'liked', 'line', 'list', 'literally', 'little', 'live', 'll', 'local', 'location', 'long', 'look', 'looked', 'looking', 'looks', 'lot', 'lots', 'love', 'loved', 'lunch', 'main', 'make', 'makes', 'making', 'man', 'manager', 'maybe', 'meal', 'meat', 'menu', 'mexican', 'mind', 'minutes', 'money', 'months', 'morning', 'music', 'nails', 'near', 'need', 'needed', 'needs', 'new', 'ni', 'nice', 'night', 'nit', 'nmy', 'non', 'noodles', 'nthe', 'nthey', 'nthis', 'nwe', 'offer', 'offered', 'office', 'oh', 'ok', 'okay', 'old', 'open', 'options', 'order', 'ordered', 'ordering', 'orders', 'outside', 'overall', 'owner', 'packed', 'paid', 'parking', 'party', 'past', 'pasta', 'patio', 'pay', 'people', 'perfect', 'perfectly', 'person', 'phone', 'pick', 'pizza', 'place', 'places', 'plate', 'plenty', 'plus', 'point', 'pool', 'pork', 'portion', 'portions', 'potato', 'potatoes', 'pretty', 'price', 'priced', 'prices', 'probably', 'problem', 'professional', 'quality', 'quick', 'quickly', 'quite', 'ready', 'real', 'really', 'reason', 'reasonable', 'received', 'recommend', 'recommended', 'red', 'regular', 'restaurant', 'restaurants', 'return', 'review', 'reviews', 'rice', 'right', 'roll', 'rolls', 'room', 'rooms', 'rude', 'run', 'said', 'salad', 'salmon', 'salsa', 'sandwich', 'sandwiches', 'sat', 'saturday', 'sauce', 'saw', 'say', 'seafood', 'seated', 'seating', 'second', 'seen', 'selection', 'serve', 'served', 'server', 'servers', 'service', 'set', 'shop', 'short', 'shrimp', 'simple', 'sit', 'sitting', 'size', 'slow', 'small', 'soft', 'soon', 'soup', 'space', 'special', 'spicy', 'spot', 'staff', 'star', 'stars', 'start', 'started', 'stay', 'steak', 'stop', 'stopped', 'store', 'street', 'strip', 'stuff', 'style', 'sunday', 'super', 'sure', 'sushi', 'sweet', 'table', 'tables', 'taco', 'tacos', 'taking', 'taste', 'tasted', 'tasty', 'tea', 'tell', 'terrible', 'thai', 'thank', 'thanks', 'thing', 'things', 'think', 'thought', 'time', 'times', 'tip', 'today', 'told', 'took', 'totally', 'town', 'tried', 'trip', 'try', 'trying', 'twice', 'type', 'understand', 'use', 'used', 'usually', 'variety', 've', 'vegas', 'visit', 'wait', 'waited', 'waiter', 'waiting', 'waitress', 'walk', 'walked', 'want', 'wanted', 'warm', 'wasn', 'water', 'way', 'week', 'weekend', 'weeks', 'went', 'white', 'wife', 'wine', 'wings', 'wish', 'won', 'wonderful', 'work', 'working', 'worst', 'worth', 'wouldn', 'wow', 'wrong', 'xc3', 'year', 'years', 'yelp', 'yes', 'yummy']\n"
     ]
    }
   ],
   "source": [
    "print(vectorizer.get_feature_names())"
   ]
  },
  {
   "cell_type": "markdown",
   "metadata": {},
   "source": [
    "## Splitting Data, Regression Models, and Hyperparameters"
   ]
  },
  {
   "cell_type": "markdown",
   "metadata": {},
   "source": [
    "### Splitting the Data"
   ]
  },
  {
   "cell_type": "code",
   "execution_count": 25,
   "metadata": {},
   "outputs": [],
   "source": [
    "# Split into train/test\n",
    "x_train, x_test, y_train, y_test = train_test_split(x, y, test_size=0.20, random_state=42)"
   ]
  },
  {
   "cell_type": "markdown",
   "metadata": {},
   "source": [
    "### Tuning Hyperparameters"
   ]
  },
  {
   "cell_type": "code",
   "execution_count": 26,
   "metadata": {},
   "outputs": [
    {
     "name": "stdout",
     "output_type": "stream",
     "text": [
      "WARNING:tensorflow:From C:\\Users\\andrewpascual\\Anaconda3\\lib\\site-packages\\tensorflow\\python\\ops\\init_ops.py:1251: calling VarianceScaling.__init__ (from tensorflow.python.ops.init_ops) with dtype is deprecated and will be removed in a future version.\n",
      "Instructions for updating:\n",
      "Call initializer instance with the dtype argument instead of passing it to the constructor\n",
      "Train on 52893 samples, validate on 13224 samples\n",
      "Epoch 1/100\n",
      "52893/52893 - 2s - loss: 0.4107 - val_loss: 0.1004\n",
      "Epoch 2/100\n",
      "52893/52893 - 2s - loss: 0.0896 - val_loss: 0.0813\n",
      "Epoch 3/100\n",
      "52893/52893 - 2s - loss: 0.0780 - val_loss: 0.0767\n",
      "Epoch 4/100\n",
      "52893/52893 - 2s - loss: 0.0737 - val_loss: 0.0845\n",
      "Epoch 5/100\n",
      "52893/52893 - 2s - loss: 0.0710 - val_loss: 0.0748\n",
      "Epoch 6/100\n",
      "52893/52893 - 2s - loss: 0.0680 - val_loss: 0.0748\n",
      "Epoch 7/100\n",
      "52893/52893 - 2s - loss: 0.0659 - val_loss: 0.0745\n",
      "Epoch 8/100\n",
      "52893/52893 - 2s - loss: 0.0641 - val_loss: 0.0779\n",
      "Epoch 9/100\n",
      "52893/52893 - 2s - loss: 0.0621 - val_loss: 0.0788\n",
      "Epoch 10/100\n",
      "52893/52893 - 2s - loss: 0.0603 - val_loss: 0.0841\n",
      "Epoch 00010: early stopping\n",
      "Score (RMSE): 0.2900747531928136\n"
     ]
    }
   ],
   "source": [
    "#Model 1 with relu and adam\n",
    "model = Sequential()\n",
    "model.add(Dense(100, input_dim=x.shape[1], activation='relu'))\n",
    "model.add(Dense(10, activation='relu'))\n",
    "model.add(Dense(5, activation='relu'))\n",
    "model.add(Dense(1))\n",
    "\n",
    "model.compile(loss='mean_squared_error', optimizer='adam')\n",
    "\n",
    "monitor = EarlyStopping(monitor='val_loss', min_delta=1e-3, patience=5, verbose=2, mode='auto')\n",
    "\n",
    "model.fit(x_train,y_train,validation_data=(x_test,y_test),callbacks=[monitor],verbose=2,epochs=100)\n",
    "# Predict and measure RMSE\n",
    "pred1 = model.predict(x_test)\n",
    "score = np.sqrt(metrics.mean_squared_error(pred1,y_test))\n",
    "print(\"Score (RMSE): {}\".format(score))"
   ]
  },
  {
   "cell_type": "code",
   "execution_count": 27,
   "metadata": {},
   "outputs": [
    {
     "name": "stdout",
     "output_type": "stream",
     "text": [
      "Train on 52893 samples, validate on 13224 samples\n",
      "Epoch 1/100\n",
      "52893/52893 - 2s - loss: 0.3212 - val_loss: 0.1589\n",
      "Epoch 2/100\n",
      "52893/52893 - 2s - loss: 0.1220 - val_loss: 0.1124\n",
      "Epoch 3/100\n",
      "52893/52893 - 2s - loss: 0.1074 - val_loss: 0.1001\n",
      "Epoch 4/100\n",
      "52893/52893 - 2s - loss: 0.0978 - val_loss: 0.0967\n",
      "Epoch 5/100\n",
      "52893/52893 - 2s - loss: 0.0917 - val_loss: 0.0962\n",
      "Epoch 6/100\n",
      "52893/52893 - 2s - loss: 0.0881 - val_loss: 0.0875\n",
      "Epoch 7/100\n",
      "52893/52893 - 2s - loss: 0.0848 - val_loss: 0.0843\n",
      "Epoch 8/100\n",
      "52893/52893 - 2s - loss: 0.0833 - val_loss: 0.0823\n",
      "Epoch 9/100\n",
      "52893/52893 - 2s - loss: 0.0815 - val_loss: 0.0827\n",
      "Epoch 10/100\n",
      "52893/52893 - 2s - loss: 0.0803 - val_loss: 0.0827\n",
      "Epoch 00010: early stopping\n",
      "Score (RMSE): 0.28760638322657933\n"
     ]
    }
   ],
   "source": [
    "#Model 2 with relu and sgd\n",
    "model = Sequential()\n",
    "model.add(Dense(100, input_dim=x.shape[1], activation='relu'))\n",
    "model.add(Dense(10, activation='relu'))\n",
    "model.add(Dense(5, activation='relu'))\n",
    "model.add(Dense(1))\n",
    "\n",
    "model.compile(loss='mean_squared_error', optimizer='sgd')\n",
    "\n",
    "monitor = EarlyStopping(monitor='val_loss', min_delta=1e-3, patience=2, verbose=2, mode='auto')\n",
    "\n",
    "model.fit(x_train,y_train,validation_data=(x_test,y_test),callbacks=[monitor],verbose=2,epochs=100)\n",
    "\n",
    "# Predict and measure RMSE\n",
    "pred2 = model.predict(x_test)\n",
    "score = np.sqrt(metrics.mean_squared_error(pred2,y_test))\n",
    "print(\"Score (RMSE): {}\".format(score))"
   ]
  },
  {
   "cell_type": "code",
   "execution_count": 28,
   "metadata": {},
   "outputs": [
    {
     "name": "stdout",
     "output_type": "stream",
     "text": [
      "Train on 52893 samples, validate on 13224 samples\n",
      "Epoch 1/100\n",
      "52893/52893 - 2s - loss: 1.6545 - val_loss: 0.6639\n",
      "Epoch 2/100\n",
      "52893/52893 - 2s - loss: 0.6503 - val_loss: 0.6635\n",
      "Epoch 3/100\n",
      "52893/52893 - 2s - loss: 0.4703 - val_loss: 0.1106\n",
      "Epoch 4/100\n",
      "52893/52893 - 2s - loss: 0.0887 - val_loss: 0.0805\n",
      "Epoch 5/100\n",
      "52893/52893 - 2s - loss: 0.0772 - val_loss: 0.0795\n",
      "Epoch 6/100\n",
      "52893/52893 - 2s - loss: 0.0743 - val_loss: 0.0747\n",
      "Epoch 7/100\n",
      "52893/52893 - 2s - loss: 0.0727 - val_loss: 0.0748\n",
      "Epoch 8/100\n",
      "52893/52893 - 2s - loss: 0.0718 - val_loss: 0.0737\n",
      "Epoch 00008: early stopping\n",
      "Score (RMSE): 0.2715248568690927\n"
     ]
    }
   ],
   "source": [
    "#Model 3 with sigmoid and adam\n",
    "model = Sequential()\n",
    "model.add(Dense(100, input_dim=x.shape[1], activation='sigmoid'))\n",
    "model.add(Dense(10, activation='sigmoid'))\n",
    "model.add(Dense(5, activation='sigmoid'))\n",
    "model.add(Dense(1))\n",
    "\n",
    "model.compile(loss='mean_squared_error', optimizer='adam')\n",
    "\n",
    "monitor = EarlyStopping(monitor='val_loss', min_delta=1e-3, patience=2, verbose=2, mode='auto')\n",
    "\n",
    "model.fit(x_train,y_train,validation_data=(x_test,y_test),callbacks=[monitor],verbose=2,epochs=100)\n",
    "\n",
    "# Predict and measure RMSE\n",
    "pred3 = model.predict(x_test)\n",
    "score = np.sqrt(metrics.mean_squared_error(pred3,y_test))\n",
    "print(\"Score (RMSE): {}\".format(score))"
   ]
  },
  {
   "cell_type": "code",
   "execution_count": 29,
   "metadata": {},
   "outputs": [
    {
     "name": "stdout",
     "output_type": "stream",
     "text": [
      "Train on 52893 samples, validate on 13224 samples\n",
      "Epoch 1/100\n",
      "52893/52893 - 2s - loss: 0.7022 - val_loss: 0.6638\n",
      "Epoch 2/100\n",
      "52893/52893 - 2s - loss: 0.6497 - val_loss: 0.6628\n",
      "Epoch 3/100\n",
      "52893/52893 - 2s - loss: 0.6489 - val_loss: 0.6638\n",
      "Epoch 00003: early stopping\n",
      "Score (RMSE): 0.8147337303015404\n"
     ]
    }
   ],
   "source": [
    "#Model 4 with sigmoid and sgd\n",
    "model = Sequential()\n",
    "model.add(Dense(100, input_dim=x.shape[1], activation='sigmoid'))\n",
    "model.add(Dense(10, activation='sigmoid'))\n",
    "model.add(Dense(5, activation='sigmoid'))\n",
    "model.add(Dense(1))\n",
    "\n",
    "model.compile(loss='mean_squared_error', optimizer='sgd')\n",
    "\n",
    "monitor = EarlyStopping(monitor='val_loss', min_delta=1e-3, patience=2, verbose=2, mode='auto')\n",
    "\n",
    "model.fit(x_train,y_train,validation_data=(x_test,y_test),callbacks=[monitor],verbose=2,epochs=100)\n",
    "\n",
    "# Predict and measure RMSE\n",
    "pred4 = model.predict(x_test)\n",
    "score = np.sqrt(metrics.mean_squared_error(pred4,y_test))\n",
    "print(\"Score (RMSE): {}\".format(score))"
   ]
  },
  {
   "cell_type": "code",
   "execution_count": 48,
   "metadata": {},
   "outputs": [
    {
     "name": "stdout",
     "output_type": "stream",
     "text": [
      "Train on 52893 samples, validate on 13224 samples\n",
      "Epoch 1/100\n",
      "52893/52893 - 3s - loss: 0.6652 - val_loss: 0.0985\n",
      "Epoch 2/100\n",
      "52893/52893 - 2s - loss: 0.0825 - val_loss: 0.0778\n",
      "Epoch 3/100\n",
      "52893/52893 - 2s - loss: 0.0749 - val_loss: 0.0743\n",
      "Epoch 4/100\n",
      "52893/52893 - 2s - loss: 0.0730 - val_loss: 0.0731\n",
      "Epoch 5/100\n",
      "52893/52893 - 2s - loss: 0.0717 - val_loss: 0.0751\n",
      "Epoch 6/100\n",
      "52893/52893 - 2s - loss: 0.0711 - val_loss: 0.0743\n",
      "Epoch 00006: early stopping\n",
      "Score (RMSE): 0.2725159641282756\n"
     ]
    }
   ],
   "source": [
    "#Model 5 with tanh and adam\n",
    "model = Sequential()\n",
    "model.add(Dense(100, input_dim=x.shape[1], activation='tanh'))\n",
    "model.add(Dense(10, activation='tanh'))\n",
    "model.add(Dense(5, activation='tanh'))\n",
    "model.add(Dense(1))\n",
    "\n",
    "model.compile(loss='mean_squared_error', optimizer='adam')\n",
    "\n",
    "monitor = EarlyStopping(monitor='val_loss', min_delta=1e-3, patience=2, verbose=2, mode='auto')\n",
    "\n",
    "model.fit(x_train,y_train,validation_data=(x_test,y_test),callbacks=[monitor],verbose=2,epochs=100)\n",
    "\n",
    "# Predict and measure RMSE\n",
    "pred5 = model.predict(x_test)\n",
    "score = np.sqrt(metrics.mean_squared_error(pred5,y_test))\n",
    "print(\"Score (RMSE): {}\".format(score))"
   ]
  },
  {
   "cell_type": "code",
   "execution_count": 31,
   "metadata": {},
   "outputs": [
    {
     "name": "stdout",
     "output_type": "stream",
     "text": [
      "Train on 52893 samples, validate on 13224 samples\n",
      "Epoch 1/100\n",
      "52893/52893 - 2s - loss: 0.3190 - val_loss: 0.1190\n",
      "Epoch 2/100\n",
      "52893/52893 - 2s - loss: 0.1131 - val_loss: 0.1068\n",
      "Epoch 3/100\n",
      "52893/52893 - 2s - loss: 0.1039 - val_loss: 0.0995\n",
      "Epoch 4/100\n",
      "52893/52893 - 2s - loss: 0.0988 - val_loss: 0.0947\n",
      "Epoch 5/100\n",
      "52893/52893 - 2s - loss: 0.0949 - val_loss: 0.0924\n",
      "Epoch 6/100\n",
      "52893/52893 - 2s - loss: 0.0918 - val_loss: 0.0900\n",
      "Epoch 7/100\n",
      "52893/52893 - 2s - loss: 0.0887 - val_loss: 0.0873\n",
      "Epoch 8/100\n",
      "52893/52893 - 2s - loss: 0.0864 - val_loss: 0.0876\n",
      "Epoch 9/100\n",
      "52893/52893 - 2s - loss: 0.0843 - val_loss: 0.0834\n",
      "Epoch 10/100\n",
      "52893/52893 - 2s - loss: 0.0826 - val_loss: 0.0823\n",
      "Epoch 11/100\n",
      "52893/52893 - 2s - loss: 0.0813 - val_loss: 0.0817\n",
      "Epoch 12/100\n",
      "52893/52893 - 2s - loss: 0.0803 - val_loss: 0.0817\n",
      "Epoch 00012: early stopping\n",
      "Score (RMSE): 0.28580399923562455\n"
     ]
    }
   ],
   "source": [
    "#Model 6 with tanh and sgd\n",
    "model = Sequential()\n",
    "model.add(Dense(100, input_dim=x.shape[1], activation='tanh'))\n",
    "model.add(Dense(10, activation='tanh'))\n",
    "model.add(Dense(5, activation='tanh'))\n",
    "model.add(Dense(1))\n",
    "\n",
    "model.compile(loss='mean_squared_error', optimizer='sgd')\n",
    "\n",
    "monitor = EarlyStopping(monitor='val_loss', min_delta=1e-3, patience=2, verbose=2, mode='auto')\n",
    "\n",
    "model.fit(x_train,y_train,validation_data=(x_test,y_test),callbacks=[monitor],verbose=2,epochs=100)\n",
    "\n",
    "# Predict and measure RMSE\n",
    "pred6 = model.predict(x_test)\n",
    "score = np.sqrt(metrics.mean_squared_error(pred6,y_test))\n",
    "print(\"Score (RMSE): {}\".format(score))"
   ]
  },
  {
   "cell_type": "markdown",
   "metadata": {},
   "source": [
    "## Analysis of hypertunings\n"
   ]
  },
  {
   "cell_type": "markdown",
   "metadata": {},
   "source": [
    "Based on the predicted RMSE, we have chosen the best model to be sigmoid and adam. This is due to the RMSE being the lowest out of the six possible hyperparameter tunings. Sigmoid and adam RMSE = 0.2684570471071739"
   ]
  },
  {
   "cell_type": "markdown",
   "metadata": {},
   "source": [
    "#### Find 5 business, showing their names, predicted ratings, and actual ratings"
   ]
  },
  {
   "cell_type": "code",
   "execution_count": 40,
   "metadata": {},
   "outputs": [
    {
     "name": "stdout",
     "output_type": "stream",
     "text": [
      "Shape: (13224, 1)\n",
      "[[4.2559037]\n",
      " [4.0565376]\n",
      " [3.302147 ]\n",
      " ...\n",
      " [4.0261517]\n",
      " [3.710733 ]\n",
      " [3.8521886]]\n"
     ]
    }
   ],
   "source": [
    "#predicted star ratings\n",
    "pred5 = model.predict(x_test)\n",
    "print(\"Shape: {}\".format(pred3.shape))\n",
    "print(pred5)"
   ]
  },
  {
   "cell_type": "code",
   "execution_count": 33,
   "metadata": {},
   "outputs": [
    {
     "data": {
      "text/plain": [
       "0        4.0\n",
       "1        3.0\n",
       "2        4.0\n",
       "3        4.0\n",
       "4        4.0\n",
       "        ... \n",
       "66112    4.5\n",
       "66113    3.5\n",
       "66114    4.0\n",
       "66115    3.0\n",
       "66116    3.5\n",
       "Name: stars, Length: 66117, dtype: float64"
      ]
     },
     "execution_count": 33,
     "metadata": {},
     "output_type": "execute_result"
    }
   ],
   "source": [
    "b_id = df_review_business['business_id']\n",
    "b_id\n",
    "b_name = df_review_business['name']\n",
    "b_name\n",
    "b_astars = df_review_business['stars']\n",
    "b_astars"
   ]
  },
  {
   "cell_type": "code",
   "execution_count": 34,
   "metadata": {},
   "outputs": [],
   "source": [
    "# print out all prediction\n",
    "df_bid = pd.DataFrame(b_id, columns=['business_id'])\n",
    "df_y = pd.DataFrame(b_name, columns=['name'])\n",
    "df_pred = pd.DataFrame(pred3, columns=['predicted stars'])\n",
    "result = pd.concat([df_y, df_bid,df_pred,b_astars],axis=1)"
   ]
  },
  {
   "cell_type": "code",
   "execution_count": 35,
   "metadata": {},
   "outputs": [
    {
     "data": {
      "text/html": [
       "<div>\n",
       "<style scoped>\n",
       "    .dataframe tbody tr th:only-of-type {\n",
       "        vertical-align: middle;\n",
       "    }\n",
       "\n",
       "    .dataframe tbody tr th {\n",
       "        vertical-align: top;\n",
       "    }\n",
       "\n",
       "    .dataframe thead th {\n",
       "        text-align: right;\n",
       "    }\n",
       "</style>\n",
       "<table border=\"1\" class=\"dataframe\">\n",
       "  <thead>\n",
       "    <tr style=\"text-align: right;\">\n",
       "      <th></th>\n",
       "      <th>name</th>\n",
       "      <th>business_id</th>\n",
       "      <th>predicted stars</th>\n",
       "      <th>stars</th>\n",
       "    </tr>\n",
       "  </thead>\n",
       "  <tbody>\n",
       "    <tr>\n",
       "      <th>189</th>\n",
       "      <td>b'iNails &amp; Spa'</td>\n",
       "      <td>-AeZXaqxrLxxXEVH9KmK-g</td>\n",
       "      <td>4.755480</td>\n",
       "      <td>3.5</td>\n",
       "    </tr>\n",
       "    <tr>\n",
       "      <th>190</th>\n",
       "      <td>b'Soupesoup'</td>\n",
       "      <td>-AgfhwHOYrsPKt-_xV_Ipg</td>\n",
       "      <td>4.047420</td>\n",
       "      <td>4.0</td>\n",
       "    </tr>\n",
       "    <tr>\n",
       "      <th>191</th>\n",
       "      <td>b'Wildflower - Rivulon'</td>\n",
       "      <td>-AliE9BXGQl8pIrdlpCOxQ</td>\n",
       "      <td>4.340148</td>\n",
       "      <td>4.0</td>\n",
       "    </tr>\n",
       "    <tr>\n",
       "      <th>192</th>\n",
       "      <td>b\"Ike's Love &amp; Sandwiches\"</td>\n",
       "      <td>-ArzVOksIBWmtM1ey90vDQ</td>\n",
       "      <td>4.482233</td>\n",
       "      <td>4.5</td>\n",
       "    </tr>\n",
       "    <tr>\n",
       "      <th>193</th>\n",
       "      <td>b'Mexico City'</td>\n",
       "      <td>-AtzcXIwEP6yO7rM9CM9ww</td>\n",
       "      <td>3.669749</td>\n",
       "      <td>4.0</td>\n",
       "    </tr>\n",
       "  </tbody>\n",
       "</table>\n",
       "</div>"
      ],
      "text/plain": [
       "                           name             business_id  predicted stars  \\\n",
       "189             b'iNails & Spa'  -AeZXaqxrLxxXEVH9KmK-g         4.755480   \n",
       "190                b'Soupesoup'  -AgfhwHOYrsPKt-_xV_Ipg         4.047420   \n",
       "191     b'Wildflower - Rivulon'  -AliE9BXGQl8pIrdlpCOxQ         4.340148   \n",
       "192  b\"Ike's Love & Sandwiches\"  -ArzVOksIBWmtM1ey90vDQ         4.482233   \n",
       "193              b'Mexico City'  -AtzcXIwEP6yO7rM9CM9ww         3.669749   \n",
       "\n",
       "     stars  \n",
       "189    3.5  \n",
       "190    4.0  \n",
       "191    4.0  \n",
       "192    4.5  \n",
       "193    4.0  "
      ]
     },
     "execution_count": 35,
     "metadata": {},
     "output_type": "execute_result"
    }
   ],
   "source": [
    "result [189:194]"
   ]
  },
  {
   "cell_type": "code",
   "execution_count": 43,
   "metadata": {},
   "outputs": [
    {
     "name": "stdout",
     "output_type": "stream",
     "text": [
      "Score (RMSE): 0.28580399923562455\n"
     ]
    }
   ],
   "source": [
    "#Printing the best RMSE\n",
    "pred5 = model.predict(x_test)\n",
    "score = np.sqrt(metrics.mean_squared_error(pred5,y_test))\n",
    "print(\"Score (RMSE): {}\".format(score))"
   ]
  },
  {
   "cell_type": "code",
   "execution_count": 44,
   "metadata": {},
   "outputs": [],
   "source": [
    "from collections.abc import Sequence\n",
    "from sklearn import preprocessing\n",
    "import matplotlib.pyplot as plt\n",
    "import os\n",
    "import io\n",
    "import requests\n",
    "import tensorflow as tf\n",
    "\n",
    "# Regression chart.\n",
    "def chart_regression(pred,y,sort=True):\n",
    "    t = pd.DataFrame({'pred' : pred, 'y' : y})\n",
    "    if sort:\n",
    "        t.sort_values(by=['y'],inplace=True)\n",
    "   \n",
    "    b = plt.plot(t['pred'].tolist(),label='prediction')\n",
    "    a = plt.plot(t['y'].tolist(),label='expected')\n",
    "    plt.ylabel('output')\n",
    "    plt.legend()\n",
    "    plt.show()"
   ]
  },
  {
   "cell_type": "code",
   "execution_count": 45,
   "metadata": {},
   "outputs": [
    {
     "name": "stdout",
     "output_type": "stream",
     "text": [
      "<class 'numpy.ndarray'>\n"
     ]
    }
   ],
   "source": [
    "print(type(pred5))"
   ]
  },
  {
   "cell_type": "code",
   "execution_count": 46,
   "metadata": {},
   "outputs": [
    {
     "data": {
      "text/plain": [
       "(13224, 1)"
      ]
     },
     "execution_count": 46,
     "metadata": {},
     "output_type": "execute_result"
    }
   ],
   "source": [
    "pred5.shape"
   ]
  },
  {
   "cell_type": "code",
   "execution_count": 47,
   "metadata": {},
   "outputs": [
    {
     "data": {
      "image/png": "[encoded data removed]",
      "text/plain": [
       "<Figure size 432x288 with 1 Axes>"
      ]
     },
     "metadata": {
      "needs_background": "light"
     },
     "output_type": "display_data"
    }
   ],
   "source": [
    "chart_regression(pred5.flatten(),y_test,sort=True)"
   ]
  }
 ],
 "metadata": {
  "kernelspec": {
   "display_name": "Python 3",
   "language": "python",
   "name": "python3"
  },
  "language_info": {
   "codemirror_mode": {
    "name": "ipython",
    "version": 3
   },
   "file_extension": ".py",
   "mimetype": "text/x-python",
   "name": "python",
   "nbconvert_exporter": "python",
   "pygments_lexer": "ipython3",
   "version": "3.7.6"
  }
 },
 "nbformat": 4,
 "nbformat_minor": 4
}
